{
 "cells": [
  {
   "cell_type": "code",
   "execution_count": 1,
   "id": "7e5f5852-e452-4650-9f1f-463c673a16a5",
   "metadata": {},
   "outputs": [],
   "source": [
    "import frictionless"
   ]
  },
  {
   "cell_type": "code",
   "execution_count": null,
   "id": "4924d0d9-84d3-4d61-8609-71824e903a69",
   "metadata": {},
   "outputs": [],
   "source": []
  }
 ],
 "metadata": {
  "kernelspec": {
   "display_name": "metrics_in_context",
   "language": "python",
   "name": "metrics_in_context"
  },
  "language_info": {
   "codemirror_mode": {
    "name": "ipython",
    "version": 3
   },
   "file_extension": ".py",
   "mimetype": "text/x-python",
   "name": "python",
   "nbconvert_exporter": "python",
   "pygments_lexer": "ipython3",
   "version": "3.8.12"
  }
 },
 "nbformat": 4,
 "nbformat_minor": 5
}
