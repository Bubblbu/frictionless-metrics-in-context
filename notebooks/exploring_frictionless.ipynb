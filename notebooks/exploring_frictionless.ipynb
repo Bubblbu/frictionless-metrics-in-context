{
 "cells": [
  {
   "cell_type": "code",
   "execution_count": 15,
   "metadata": {},
   "outputs": [],
   "source": [
    "from pathlib import Path\n",
    "from pprint import pprint\n",
    "\n",
    "import pandas as pd\n",
    "from frictionless import describe, extract, validate, transform\n",
    "\n",
    "from frictionless import describe_schema"
   ]
  },
  {
   "cell_type": "code",
   "execution_count": 2,
   "metadata": {},
   "outputs": [],
   "source": [
    "data_dir = Path(\"../data/\")\n",
    "articles = data_dir / \"articles.csv\""
   ]
  },
  {
   "cell_type": "markdown",
   "metadata": {},
   "source": [
    "## Describing"
   ]
  },
  {
   "cell_type": "code",
   "execution_count": 3,
   "metadata": {},
   "outputs": [],
   "source": [
    "resource = describe(articles, infer_missing_values=[\"\"])"
   ]
  },
  {
   "cell_type": "code",
   "execution_count": 23,
   "metadata": {},
   "outputs": [],
   "source": [
    "schema = describe_schema(resource)"
   ]
  },
  {
   "cell_type": "code",
   "execution_count": 24,
   "metadata": {},
   "outputs": [
    {
     "data": {
      "text/plain": [
       "[{'name': 'proposal_id', 'type': 'string'},\n",
       " {'name': 'program', 'type': 'string'},\n",
       " {'name': 'score', 'type': 'number'},\n",
       " {'name': 'DOI', 'type': 'string'},\n",
       " {'name': 'journal_name', 'type': 'string'},\n",
       " {'name': 'publisher', 'type': 'string'},\n",
       " {'name': 'coci_citations', 'type': 'integer'},\n",
       " {'name': 'references', 'type': 'integer'},\n",
       " {'name': 'authors_count', 'type': 'integer'},\n",
       " {'name': 'title', 'type': 'string'},\n",
       " {'name': 'created', 'type': 'integer'},\n",
       " {'name': 'deposited', 'type': 'integer'},\n",
       " {'name': 'indexed', 'type': 'integer'},\n",
       " {'name': 'published-online', 'type': 'integer'},\n",
       " {'name': 'issued', 'type': 'integer'}]"
      ]
     },
     "execution_count": 24,
     "metadata": {},
     "output_type": "execute_result"
    }
   ],
   "source": [
    "schema.metadata_attach()"
   ]
  },
  {
   "cell_type": "code",
   "execution_count": 20,
   "metadata": {},
   "outputs": [],
   "source": [
    "schema.primary_key = \"DOI\"\n",
    "schema.get_field(\"DOI\").constraints[\"unique\"] = True\n",
    "schema.get_field(\"proposal_id\").description = \"ID for proposals\"\n",
    "schema.get_field(\"program\").title = \"Research Program\"\n",
    "schema.get_field(\"program\").description = \"Name of research program within CDRMP\"\n",
    "schema.get_field(\"program\").description = \"Score for citation text and DOI matching using the Crossref matcher\""
   ]
  },
  {
   "cell_type": "code",
   "execution_count": 21,
   "metadata": {},
   "outputs": [
    {
     "name": "stdout",
     "output_type": "stream",
     "text": [
      "{'fields': [{'description': 'ID for proposals',\n",
      "             'name': 'proposal_id',\n",
      "             'type': 'string'},\n",
      "            {'description': 'Score for citation text and DOI matching using '\n",
      "                            'the Crossref matcher',\n",
      "             'name': 'program',\n",
      "             'title': 'Research Program',\n",
      "             'type': 'string'},\n",
      "            {'name': 'score', 'type': 'number'},\n",
      "            {'constraints': {'unique': True}, 'name': 'DOI', 'type': 'string'},\n",
      "            {'name': 'journal_name', 'type': 'string'},\n",
      "            {'name': 'publisher', 'type': 'string'},\n",
      "            {'name': 'coci_citations', 'type': 'integer'},\n",
      "            {'name': 'references', 'type': 'integer'},\n",
      "            {'name': 'authors_count', 'type': 'integer'},\n",
      "            {'name': 'title', 'type': 'string'},\n",
      "            {'name': 'created', 'type': 'integer'},\n",
      "            {'name': 'deposited', 'type': 'integer'},\n",
      "            {'name': 'indexed', 'type': 'integer'},\n",
      "            {'name': 'published-online', 'type': 'integer'},\n",
      "            {'name': 'issued', 'type': 'integer'}],\n",
      " 'primaryKey': 'DOI'}\n"
     ]
    }
   ],
   "source": [
    "pprint(schema)"
   ]
  },
  {
   "cell_type": "markdown",
   "metadata": {},
   "source": [
    "## Validating"
   ]
  },
  {
   "cell_type": "code",
   "execution_count": 10,
   "metadata": {},
   "outputs": [
    {
     "name": "stdout",
     "output_type": "stream",
     "text": [
      "{'errors': [],\n",
      " 'stats': {'errors': 0, 'tables': 1},\n",
      " 'tables': [{'compression': 'no',\n",
      "             'compressionPath': '',\n",
      "             'dialect': {},\n",
      "             'encoding': 'utf-8',\n",
      "             'errors': [],\n",
      "             'format': 'csv',\n",
      "             'hashing': 'md5',\n",
      "             'header': ['proposal_id',\n",
      "                        'program',\n",
      "                        'score',\n",
      "                        'DOI',\n",
      "                        'journal_name',\n",
      "                        'publisher',\n",
      "                        'coci_citations',\n",
      "                        'references',\n",
      "                        'authors_count',\n",
      "                        'title',\n",
      "                        'created',\n",
      "                        'deposited',\n",
      "                        'indexed',\n",
      "                        'published-online',\n",
      "                        'issued'],\n",
      "             'partial': False,\n",
      "             'path': '../data/articles.csv',\n",
      "             'query': {},\n",
      "             'schema': {'fields': [{'name': 'proposal_id', 'type': 'string'},\n",
      "                                   {'name': 'program', 'type': 'string'},\n",
      "                                   {'name': 'score', 'type': 'number'},\n",
      "                                   {'name': 'DOI', 'type': 'string'},\n",
      "                                   {'name': 'journal_name', 'type': 'string'},\n",
      "                                   {'name': 'publisher', 'type': 'string'},\n",
      "                                   {'name': 'coci_citations',\n",
      "                                    'type': 'integer'},\n",
      "                                   {'name': 'references', 'type': 'integer'},\n",
      "                                   {'name': 'authors_count', 'type': 'integer'},\n",
      "                                   {'name': 'title', 'type': 'string'},\n",
      "                                   {'name': 'created', 'type': 'integer'},\n",
      "                                   {'name': 'deposited', 'type': 'integer'},\n",
      "                                   {'name': 'indexed', 'type': 'integer'},\n",
      "                                   {'name': 'published-online',\n",
      "                                    'type': 'integer'},\n",
      "                                   {'name': 'issued', 'type': 'integer'}]},\n",
      "             'scheme': 'file',\n",
      "             'scope': ['dialect-error',\n",
      "                       'schema-error',\n",
      "                       'field-error',\n",
      "                       'extra-header',\n",
      "                       'missing-header',\n",
      "                       'blank-header',\n",
      "                       'duplicate-header',\n",
      "                       'non-matching-header',\n",
      "                       'extra-cell',\n",
      "                       'missing-cell',\n",
      "                       'blank-row',\n",
      "                       'type-error',\n",
      "                       'constraint-error',\n",
      "                       'unique-error',\n",
      "                       'primary-key-error',\n",
      "                       'foreign-key-error',\n",
      "                       'checksum-error'],\n",
      "             'stats': {'bytes': 2092999,\n",
      "                       'errors': 0,\n",
      "                       'fields': 15,\n",
      "                       'hash': '731cb2a604f28f3bf4060ac73f2e04ce',\n",
      "                       'rows': 8574},\n",
      "             'time': 0.564,\n",
      "             'valid': True}],\n",
      " 'time': 0.564,\n",
      " 'valid': True,\n",
      " 'version': '3.27.3'}\n"
     ]
    }
   ],
   "source": [
    "pprint(validate(articles))"
   ]
  },
  {
   "cell_type": "markdown",
   "metadata": {},
   "source": [
    "## Extracting"
   ]
  }
 ],
 "metadata": {
  "kernelspec": {
   "display_name": "metrics-in-context",
   "language": "python",
   "name": "metrics-in-context"
  },
  "language_info": {
   "codemirror_mode": {
    "name": "ipython",
    "version": 3
   },
   "file_extension": ".py",
   "mimetype": "text/x-python",
   "name": "python",
   "nbconvert_exporter": "python",
   "pygments_lexer": "ipython3",
   "version": "3.6.10"
  }
 },
 "nbformat": 4,
 "nbformat_minor": 4
}
