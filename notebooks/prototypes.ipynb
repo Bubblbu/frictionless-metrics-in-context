{
 "cells": [
  {
   "cell_type": "code",
   "execution_count": 1,
   "metadata": {},
   "outputs": [],
   "source": [
    "from pathlib import Path\n",
    "from pprint import pprint\n",
    "\n",
    "import pandas as pd\n",
    "from frictionless import describe, extract, validate, transform\n",
    "from frictionless import describe_schema"
   ]
  },
  {
   "cell_type": "markdown",
   "metadata": {},
   "source": [
    "## Scholarly Metrics Data Package Development\n",
    "\n",
    "This notebook contains several cycles of increasingly complex use cases for the scholarly metrics data package.\n",
    "\n",
    "Each use case and MVP comes with a short plain-text description, a particular dataset, and a frictionless schema that describes the dataset."
   ]
  },
  {
   "cell_type": "markdown",
   "metadata": {},
   "source": [
    "### 1. Scite\n",
    "\n",
    "#### 1.1 Citation Counts for article\n",
    "\n",
    "Describe a simple dataset with citation counts provided from Crossref."
   ]
  },
  {
   "cell_type": "code",
   "execution_count": 14,
   "metadata": {},
   "outputs": [],
   "source": [
    "data_dir = Path(\"../prototypes/1_citations/\")\n",
    "metadata = pd.read_csv(data_dir / \"event_contexts.csv\")\n",
    "traces = pd.read_csv(data_dir / \"citation_traces.csv\")\n",
    "cit_patterns = pd.read_csv(data_dir / \"citation_patterns.csv\")\n",
    "article_patterns = pd.read_csv(data_dir / \"article_patterns.csv\")"
   ]
  },
  {
   "cell_type": "code",
   "execution_count": 32,
   "metadata": {},
   "outputs": [],
   "source": [
    "f = data_dir / \"event_contexts.csv\"\n",
    "event_contexts = describe(f)[\"schema\"]"
   ]
  },
  {
   "cell_type": "code",
   "execution_count": 33,
   "metadata": {},
   "outputs": [
    {
     "data": {
      "text/plain": [
       "{'fields': [{'name': 'doi', 'type': 'string'},\n",
       "  {'name': 'slug', 'type': 'string'},\n",
       "  {'name': 'type', 'type': 'string'},\n",
       "  {'name': 'title', 'type': 'string'},\n",
       "  {'name': 'abstract', 'type': 'string'},\n",
       "  {'name': 'authors', 'type': 'string'},\n",
       "  {'name': 'keywords', 'type': 'string'},\n",
       "  {'name': 'year', 'type': 'number'},\n",
       "  {'name': 'shortJournal', 'type': 'string'},\n",
       "  {'name': 'publisher', 'type': 'string'},\n",
       "  {'name': 'issue', 'type': 'string'},\n",
       "  {'name': 'volume', 'type': 'integer'},\n",
       "  {'name': 'page', 'type': 'string'},\n",
       "  {'name': 'retracted', 'type': 'boolean'},\n",
       "  {'name': 'memberId', 'type': 'integer'},\n",
       "  {'name': 'issns', 'type': 'string'},\n",
       "  {'name': 'editorialNotices', 'type': 'string'},\n",
       "  {'name': 'journalSlug', 'type': 'string'},\n",
       "  {'name': 'journal', 'type': 'string'},\n",
       "  {'name': 'rwStatus', 'type': 'any'}]}"
      ]
     },
     "execution_count": 33,
     "metadata": {},
     "output_type": "execute_result"
    }
   ],
   "source": [
    "event_contexts"
   ]
  },
  {
   "cell_type": "code",
   "execution_count": 20,
   "metadata": {},
   "outputs": [
    {
     "data": {
      "text/plain": [
       "{'fields': [{'name': 'id', 'type': 'integer'},\n",
       "  {'name': 'source', 'type': 'string'},\n",
       "  {'name': 'target', 'type': 'string'}]}"
      ]
     },
     "execution_count": 20,
     "metadata": {},
     "output_type": "execute_result"
    }
   ],
   "source": [
    "desc = describe(data_dir / \"citation_traces.csv\")\n",
    "trace_schema = desc[\"schema\"]"
   ]
  },
  {
   "cell_type": "code",
   "execution_count": 28,
   "metadata": {},
   "outputs": [],
   "source": [
    "trace_schema.get_field(\"id\").title = \"Unique ID for a source-target pair\"\n",
    "trace_schema.get_field(\"source\").title = \"DOI of citing article\"\n",
    "trace_schema.get_field(\"source\").type = \"string\"\n",
    "trace_schema.get_field(\"target\").title = \"DOI of cited article\"\n",
    "trace_schema.get_field(\"target\").type = \"string\""
   ]
  },
  {
   "cell_type": "code",
   "execution_count": 29,
   "metadata": {},
   "outputs": [
    {
     "data": {
      "text/plain": [
       "{'fields': [{'name': 'id',\n",
       "   'type': 'integer',\n",
       "   'title': 'Unique ID for a source-target pair'},\n",
       "  {'name': 'source', 'type': 'string', 'title': 'DOI of citing article'},\n",
       "  {'name': 'target', 'type': 'string', 'title': 'DOI of cited article'}]}"
      ]
     },
     "execution_count": 29,
     "metadata": {},
     "output_type": "execute_result"
    }
   ],
   "source": [
    "trace_schema"
   ]
  },
  {
   "cell_type": "code",
   "execution_count": 30,
   "metadata": {},
   "outputs": [],
   "source": [
    "desc = describe(data_dir / \"citation_patterns.csv\")\n",
    "cit_patterns = desc[\"schema\"]"
   ]
  },
  {
   "cell_type": "code",
   "execution_count": 31,
   "metadata": {},
   "outputs": [
    {
     "data": {
      "text/plain": [
       "{'fields': [{'name': 'source', 'type': 'string'},\n",
       "  {'name': 'target', 'type': 'string'},\n",
       "  {'name': 'total_source_mentions', 'type': 'integer'},\n",
       "  {'name': 'total_source_refs', 'type': 'integer'},\n",
       "  {'name': 'mentions', 'type': 'integer'},\n",
       "  {'name': 'norm_refs', 'type': 'number'},\n",
       "  {'name': 'norm_mentions', 'type': 'number'},\n",
       "  {'name': 'mentions_per_ref', 'type': 'number'},\n",
       "  {'name': 'wf1', 'type': 'number'},\n",
       "  {'name': 'wf2', 'type': 'number'},\n",
       "  {'name': 'wf3', 'type': 'number'}]}"
      ]
     },
     "execution_count": 31,
     "metadata": {},
     "output_type": "execute_result"
    }
   ],
   "source": [
    "cit_patterns"
   ]
  },
  {
   "cell_type": "code",
   "execution_count": null,
   "metadata": {},
   "outputs": [],
   "source": [
    "class Process:\n",
    "    def __init__(self, name):\n",
    "        self.name = name\n",
    "\n",
    "class Performing(Process):\n",
    "    def __init__(self)\n",
    "        super().__init__(self)\n",
    "    \n",
    "class Tracing(Process):\n",
    "    def __init__(self)\n",
    "        super().__init__(self)\n",
    "        \n",
    "class Patterning(Process):\n",
    "    def __init__(self)\n",
    "        super().__init__(self)\n",
    "\n",
    "class Valuing(Process):\n",
    "    def __init__(self)\n",
    "        super().__init__(self)"
   ]
  },
  {
   "cell_type": "code",
   "execution_count": null,
   "metadata": {},
   "outputs": [],
   "source": [
    "class Phenomenom:\n",
    "    def __init__(self):\n",
    "        self.title = \"\"\n",
    "        self.description = \"\"\n",
    "\n",
    "class Event(Phenomenom):\n",
    "    def __init__(self)\n",
    "        super().__init__(self)\n",
    "        \n",
    "class Trace(Phenomenom):\n",
    "    def __init__(self)\n",
    "        super().__init__(self)\n",
    "    \n",
    "class Pattern(Phenomenom):\n",
    "    def __init__(self)\n",
    "        super().__init__(self)"
   ]
  },
  {
   "cell_type": "code",
   "execution_count": 43,
   "metadata": {},
   "outputs": [],
   "source": [
    "citations = {\n",
    "    \"name\": \"scholarly citation\",\n",
    "    \"local\": \"scholarly article\",\n",
    "    \"reference\": \"mentions\",\n",
    "    \"remote\": \"scholarly article\"\n",
    "}"
   ]
  },
  {
   "cell_type": "code",
   "execution_count": 45,
   "metadata": {},
   "outputs": [],
   "source": [
    "citation_links = {\n",
    "    \"name\": \"citation link\",\n",
    "    \"description\": \"All references deposited to COCI through the I4OC including a long list of publishers (notably, Elsevier is not contributing its reference data)\" \\\n",
    "                    \"These references are then matched and aggregated for articles.\",\n",
    "    \"tracked_event\": citations,\n",
    "    \"coverage\": \"COCI publishers\",\n",
    "    \n",
    "}"
   ]
  },
  {
   "cell_type": "code",
   "execution_count": 46,
   "metadata": {},
   "outputs": [],
   "source": [
    "pattern = {\n",
    "    \"name\": \"aggregation\",\n",
    "    \"description\": \"Local \"\n",
    "    \"trace\": citation_links\n",
    "}"
   ]
  },
  {
   "cell_type": "code",
   "execution_count": 52,
   "metadata": {},
   "outputs": [
    {
     "name": "stdout",
     "output_type": "stream",
     "text": [
      "{'name': 'aggregation',\n",
      " 'trace': {'description': 'All references deposited to COCI through the I4OC '\n",
      "                          'including a long list of publishers (notably, '\n",
      "                          'Elsevier is not contributing its reference '\n",
      "                          'data)These references are then matched and '\n",
      "                          'aggregated for articles.',\n",
      "           'name': 'citation link',\n",
      "           'tracked_event': {'local': 'scholarly article',\n",
      "                             'name': 'scholarly citation',\n",
      "                             'reference': 'mentions',\n",
      "                             'remote': 'scholarly article'}}}\n"
     ]
    }
   ],
   "source": [
    "pprint(schema.get_field(\"citation_count\")[\"pattern\"])"
   ]
  },
  {
   "cell_type": "markdown",
   "metadata": {},
   "source": [
    "#### 1.2 Multiple Citation Counts\n",
    "\n",
    "Describe a dataset with several citation counts provided from Crossref, Web of Science, and Google Scholar."
   ]
  },
  {
   "cell_type": "markdown",
   "metadata": {},
   "source": [
    "### 2. Altmetrics\n",
    "\n",
    "#### 2.1 Facebook shares from Altmetric.com\n",
    "\n",
    "Describe a dataset of aggregated Facebook share counts provided by Altmetric"
   ]
  },
  {
   "cell_type": "markdown",
   "metadata": {},
   "source": [
    "#### 2.2 Public and Private Facebook Shares\n",
    "\n",
    "Describe a dataset with Altmetric Facebook counts and private Facebook share numbers aggregated by our method."
   ]
  },
  {
   "cell_type": "markdown",
   "metadata": {},
   "source": [
    "### 3. References\n",
    "\n",
    "#### 3.1 Basic reference data\n",
    "\n",
    "Describe a dataset of in-text references provided by Scite.ai."
   ]
  },
  {
   "cell_type": "markdown",
   "metadata": {},
   "source": [
    "#### 3.2 References and Citations\n",
    "\n",
    "Describe a dataset consisting of citation counts derived from a reference data."
   ]
  }
 ],
 "metadata": {
  "kernelspec": {
   "display_name": "metrics-in-context",
   "language": "python",
   "name": "metrics-in-context"
  },
  "language_info": {
   "codemirror_mode": {
    "name": "ipython",
    "version": 3
   },
   "file_extension": ".py",
   "mimetype": "text/x-python",
   "name": "python",
   "nbconvert_exporter": "python",
   "pygments_lexer": "ipython3",
   "version": "3.6.10"
  }
 },
 "nbformat": 4,
 "nbformat_minor": 4
}
