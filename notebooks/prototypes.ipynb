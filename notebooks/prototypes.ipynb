{
 "cells": [
  {
   "cell_type": "code",
   "execution_count": 1,
   "metadata": {},
   "outputs": [],
   "source": [
    "from pathlib import Path\n",
    "from pprint import pprint\n",
    "\n",
    "import pandas as pd\n",
    "from frictionless import describe, extract, validate, transform\n",
    "from frictionless import describe_schema"
   ]
  },
  {
   "cell_type": "markdown",
   "metadata": {},
   "source": [
    "## Scholarly Metrics Data Package Development\n",
    "\n",
    "This notebook contains several cycles of increasingly complex use cases for the scholarly metrics data package.\n",
    "\n",
    "Each use case and MVP comes with a short plain-text description, a particular dataset, and a frictionless schema that describes the dataset."
   ]
  },
  {
   "cell_type": "markdown",
   "metadata": {},
   "source": [
    "### 1. Citations\n",
    "\n",
    "#### 1.1 Citation Counts\n",
    "\n",
    "Describe a simple dataset with citation counts provided from Crossref."
   ]
  },
  {
   "cell_type": "code",
   "execution_count": 16,
   "metadata": {},
   "outputs": [
    {
     "data": {
      "text/html": [
       "<div>\n",
       "<style scoped>\n",
       "    .dataframe tbody tr th:only-of-type {\n",
       "        vertical-align: middle;\n",
       "    }\n",
       "\n",
       "    .dataframe tbody tr th {\n",
       "        vertical-align: top;\n",
       "    }\n",
       "\n",
       "    .dataframe thead th {\n",
       "        text-align: right;\n",
       "    }\n",
       "</style>\n",
       "<table border=\"1\" class=\"dataframe\">\n",
       "  <thead>\n",
       "    <tr style=\"text-align: right;\">\n",
       "      <th></th>\n",
       "      <th>doi</th>\n",
       "      <th>citation_count</th>\n",
       "    </tr>\n",
       "  </thead>\n",
       "  <tbody>\n",
       "    <tr>\n",
       "      <th>0</th>\n",
       "      <td>10.2144/04365st01</td>\n",
       "      <td>42.0</td>\n",
       "    </tr>\n",
       "    <tr>\n",
       "      <th>1</th>\n",
       "      <td>10.1002/jcb.10712</td>\n",
       "      <td>11.0</td>\n",
       "    </tr>\n",
       "    <tr>\n",
       "      <th>2</th>\n",
       "      <td>10.1081/cnv-120025093</td>\n",
       "      <td>12.0</td>\n",
       "    </tr>\n",
       "    <tr>\n",
       "      <th>3</th>\n",
       "      <td>10.1097/00129492-200409000-00027</td>\n",
       "      <td>56.0</td>\n",
       "    </tr>\n",
       "    <tr>\n",
       "      <th>4</th>\n",
       "      <td>10.1097/00129492-200307000-00022</td>\n",
       "      <td>19.0</td>\n",
       "    </tr>\n",
       "  </tbody>\n",
       "</table>\n",
       "</div>"
      ],
      "text/plain": [
       "                                doi  citation_count\n",
       "0                 10.2144/04365st01            42.0\n",
       "1                 10.1002/jcb.10712            11.0\n",
       "2             10.1081/cnv-120025093            12.0\n",
       "3  10.1097/00129492-200409000-00027            56.0\n",
       "4  10.1097/00129492-200307000-00022            19.0"
      ]
     },
     "execution_count": 16,
     "metadata": {},
     "output_type": "execute_result"
    }
   ],
   "source": [
    "input_file = \"../prototypes/1_citations/articles.csv\"\n",
    "\n",
    "articles = pd.read_csv(input_file)\n",
    "articles = articles[[\"DOI\", \"coci_citations\"]]\n",
    "articles.columns = [\"doi\", \"citation_count\"]\n",
    "articles.head()"
   ]
  },
  {
   "cell_type": "code",
   "execution_count": 18,
   "metadata": {},
   "outputs": [],
   "source": [
    "schema = describe_schema(articles)\n",
    "\n",
    "schema.primary_key = \"doi\"\n",
    "schema.get_field(\"doi\").constraints[\"unique\"] = True\n"
   ]
  },
  {
   "cell_type": "code",
   "execution_count": 32,
   "metadata": {},
   "outputs": [],
   "source": [
    "metrics = schema.get_field(\"citation_count\")\n",
    "metrics.title = \"Citation Count\"\n",
    "metrics.description = \"Number of incoming citations for an article.\""
   ]
  },
  {
   "cell_type": "code",
   "execution_count": 47,
   "metadata": {},
   "outputs": [],
   "source": [
    "metrics[\"pattern\"] = pattern"
   ]
  },
  {
   "cell_type": "code",
   "execution_count": null,
   "metadata": {},
   "outputs": [],
   "source": []
  },
  {
   "cell_type": "code",
   "execution_count": null,
   "metadata": {},
   "outputs": [],
   "source": [
    "class Context():\n",
    "    def __init__(self):\n",
    "        self.title = \"\"\n",
    "        self.type = \"\"\n",
    "\n",
    "class Event():\n",
    "    def __init__(self):\n",
    "        self.title = \"\"\n",
    "        self.description = \"\"\n",
    "        self.source = \n",
    "        self.relation = \"\"\n",
    "        self.target = \"\"\n",
    "        \n",
    "        \n",
    "class Trace():\n",
    "    def __init__(self, event=None):\n",
    "        self.event = event\n",
    "        self.title = \"\"\n",
    "        self.description = \"\"\n",
    "        self.\n",
    "    \n",
    "class Pattern():\n",
    "    "
   ]
  },
  {
   "cell_type": "code",
   "execution_count": 43,
   "metadata": {},
   "outputs": [],
   "source": [
    "citations = {\n",
    "    \"name\": \"scholarly citation\",\n",
    "    \"local\": \"scholarly article\",\n",
    "    \"reference\": \"mentions\",\n",
    "    \"remote\": \"scholarly article\"\n",
    "}"
   ]
  },
  {
   "cell_type": "code",
   "execution_count": 45,
   "metadata": {},
   "outputs": [],
   "source": [
    "citation_links = {\n",
    "    \"name\": \"citation link\",\n",
    "    \"description\": \"All references deposited to COCI through the I4OC including a long list of publishers (notably, Elsevier is not contributing its reference data)\" \\\n",
    "                    \"These references are then matched and aggregated for articles.\",\n",
    "    \"tracked_event\": citations,\n",
    "    \"coverage\": \"COCI publishers\",\n",
    "    \n",
    "}"
   ]
  },
  {
   "cell_type": "code",
   "execution_count": 46,
   "metadata": {},
   "outputs": [],
   "source": [
    "pattern = {\n",
    "    \"name\": \"aggregation\",\n",
    "    \"description\": \"Local \"\n",
    "    \"trace\": citation_links\n",
    "}"
   ]
  },
  {
   "cell_type": "code",
   "execution_count": 52,
   "metadata": {},
   "outputs": [
    {
     "name": "stdout",
     "output_type": "stream",
     "text": [
      "{'name': 'aggregation',\n",
      " 'trace': {'description': 'All references deposited to COCI through the I4OC '\n",
      "                          'including a long list of publishers (notably, '\n",
      "                          'Elsevier is not contributing its reference '\n",
      "                          'data)These references are then matched and '\n",
      "                          'aggregated for articles.',\n",
      "           'name': 'citation link',\n",
      "           'tracked_event': {'local': 'scholarly article',\n",
      "                             'name': 'scholarly citation',\n",
      "                             'reference': 'mentions',\n",
      "                             'remote': 'scholarly article'}}}\n"
     ]
    }
   ],
   "source": [
    "pprint(schema.get_field(\"citation_count\")[\"pattern\"])"
   ]
  },
  {
   "cell_type": "markdown",
   "metadata": {},
   "source": [
    "#### 1.2 Multiple Citation Counts\n",
    "\n",
    "Describe a dataset with several citation counts provided from Crossref, Web of Science, and Google Scholar."
   ]
  },
  {
   "cell_type": "markdown",
   "metadata": {},
   "source": [
    "### 2. Altmetrics\n",
    "\n",
    "#### 2.1 Facebook shares from Altmetric.com\n",
    "\n",
    "Describe a dataset of aggregated Facebook share counts provided by Altmetric"
   ]
  },
  {
   "cell_type": "markdown",
   "metadata": {},
   "source": [
    "#### 2.2 Public and Private Facebook Shares\n",
    "\n",
    "Describe a dataset with Altmetric Facebook counts and private Facebook share numbers aggregated by our method."
   ]
  },
  {
   "cell_type": "markdown",
   "metadata": {},
   "source": [
    "### 3. References\n",
    "\n",
    "#### 3.1 Basic reference data\n",
    "\n",
    "Describe a dataset of in-text references provided by Scite.ai."
   ]
  },
  {
   "cell_type": "markdown",
   "metadata": {},
   "source": [
    "#### 3.2 References and Citations\n",
    "\n",
    "Describe a dataset consisting of citation counts derived from a reference data."
   ]
  }
 ],
 "metadata": {
  "kernelspec": {
   "display_name": "metrics-in-context",
   "language": "python",
   "name": "metrics-in-context"
  },
  "language_info": {
   "codemirror_mode": {
    "name": "ipython",
    "version": 3
   },
   "file_extension": ".py",
   "mimetype": "text/x-python",
   "name": "python",
   "nbconvert_exporter": "python",
   "pygments_lexer": "ipython3",
   "version": "3.6.10"
  }
 },
 "nbformat": 4,
 "nbformat_minor": 4
}
