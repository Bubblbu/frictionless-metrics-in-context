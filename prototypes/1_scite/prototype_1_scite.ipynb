{
 "cells": [
  {
   "cell_type": "markdown",
   "metadata": {},
   "source": [
    "# Metrics in Context | A Proof of Concept\n",
    "\n",
    "### Describing Citation Data with [Frictionless](https://frictionlessdata.io/)\n",
    "\n",
    "*Asura Enkhbayar, 04.02.2021*\n",
    "\n",
    "---"
   ]
  },
  {
   "cell_type": "markdown",
   "metadata": {},
   "source": [
    "This notebook presents a proof of concept for a standardized approach to citation data and, more broadly, scholarly metrics. To do so, we will take a bibliometric dataset consisting of four spreadsheets and build a Frictionless [Data Package](https://specs.frictionlessdata.io/data-package/) using a systematic approach to describe each tables provenance. I will first introduce the dataset at hand and provide an quick overview and situate it in the context of traditional bibliometric work. Then, I will step-by-step introduce a new conceptual framework for scholarly metrics and gradually incorporate the dataset into the final data package. Finally, a few concluding remarks and a brief discussion of the potential and limitations of this approach.\n",
    "\n",
    "*Note: For a broader overview of the project please refer to the [README](https://github.com/Bubblbu/metrics-in-context) in the project repository.*\n",
    "\n",
    "<img style=\"float: center;\" width=25%, src=\"../../materials/assets/fosdem2021.jpg\">"
   ]
  },
  {
   "cell_type": "markdown",
   "metadata": {},
   "source": [
    "## Let's have a look at our input dataset\n",
    "\n",
    "For the purpose of this particular notebook, I will not go into the details of how this particular dataset was queried for and created. Of course, providing that kind of information would be part of the aims of developing a Frictionless Data Package for scholarly metrics. For now, I will simply describe the spreadsheets at hand and provide some  cursory descriptions of its origins.\n",
    "\n",
    "The dataset we are working with consists of four spreadsheets that were created based on data provided by [Scite.ai](https://scite.ai/). The particular sample was created by querying for recent articles indexed in Pubmed on Amyotrophic lateral sclerosis (ALS). Scite is one of the newer data sources that not only provide the binary citation link between documents, but attempt to extract what has been established as citation contexts. While the traditional citation count relies on the datafication of bibliographies and reference lists, context-aware citations extract each individual in-text mention of articles.\n",
    "\n",
    "\n",
    "\n",
    "- `contexts.csv`: The contexts of the events captured which typically include article metadata. \n",
    "- `traces.csv`: The individual traced citational links between documents.\n",
    "- `citations.csv`: This table contains patterns derived from the traces on the level of each individual citation pair.\n",
    "- `articles.csv`: A table with article-level metrics."
   ]
  },
  {
   "cell_type": "code",
   "execution_count": 15,
   "metadata": {},
   "outputs": [],
   "source": [
    "from pprint import pprint\n",
    "from pathlib import Path\n",
    "\n",
    "import pandas as pd\n",
    "from frictionless import describe_schema\n",
    "\n",
    "# Setup constants\n",
    "input_files = Path(\"./input_files\")"
   ]
  },
  {
   "cell_type": "code",
   "execution_count": 16,
   "metadata": {},
   "outputs": [
    {
     "data": {
      "text/html": [
       "<div>\n",
       "<style scoped>\n",
       "    .dataframe tbody tr th:only-of-type {\n",
       "        vertical-align: middle;\n",
       "    }\n",
       "\n",
       "    .dataframe tbody tr th {\n",
       "        vertical-align: top;\n",
       "    }\n",
       "\n",
       "    .dataframe thead th {\n",
       "        text-align: right;\n",
       "    }\n",
       "</style>\n",
       "<table border=\"1\" class=\"dataframe\">\n",
       "  <thead>\n",
       "    <tr style=\"text-align: right;\">\n",
       "      <th></th>\n",
       "      <th>doi</th>\n",
       "      <th>slug</th>\n",
       "      <th>type</th>\n",
       "      <th>title</th>\n",
       "      <th>abstract</th>\n",
       "      <th>authors</th>\n",
       "      <th>keywords</th>\n",
       "      <th>year</th>\n",
       "      <th>shortJournal</th>\n",
       "      <th>publisher</th>\n",
       "      <th>issue</th>\n",
       "      <th>volume</th>\n",
       "      <th>page</th>\n",
       "      <th>retracted</th>\n",
       "      <th>memberId</th>\n",
       "      <th>issns</th>\n",
       "      <th>editorialNotices</th>\n",
       "      <th>journalSlug</th>\n",
       "      <th>journal</th>\n",
       "      <th>rwStatus</th>\n",
       "    </tr>\n",
       "  </thead>\n",
       "  <tbody>\n",
       "    <tr>\n",
       "      <th>0</th>\n",
       "      <td>10.1371/journal.pone.0159593</td>\n",
       "      <td>shared-genetic-factors-involved-in-j81d1l</td>\n",
       "      <td>journal-article</td>\n",
       "      <td>Shared Genetic Factors Involved in Celiac Dise...</td>\n",
       "      <td>Background and ObjectivesGenome-wide associati...</td>\n",
       "      <td>[{'family': 'Mostowy', 'given': 'Joanna'}, {'f...</td>\n",
       "      <td>['Research Article']</td>\n",
       "      <td>2016.0</td>\n",
       "      <td>PLoS ONE</td>\n",
       "      <td>Public Library of Science (PLoS)</td>\n",
       "      <td>8</td>\n",
       "      <td>11</td>\n",
       "      <td>e0159593</td>\n",
       "      <td>False</td>\n",
       "      <td>340</td>\n",
       "      <td>['1932-6203']</td>\n",
       "      <td>[]</td>\n",
       "      <td>plos-one-lZbEk</td>\n",
       "      <td>Plos One</td>\n",
       "      <td>NaN</td>\n",
       "    </tr>\n",
       "    <tr>\n",
       "      <th>1</th>\n",
       "      <td>10.1080/21541248.2016.1276999</td>\n",
       "      <td>molecular-control-of-rab-activity-kpJgay</td>\n",
       "      <td>journal-article</td>\n",
       "      <td>Molecular control of Rab activity by GEFs, GAP...</td>\n",
       "      <td>ABSTRACTRab proteins are the major regulators ...</td>\n",
       "      <td>[{'family': 'Müller', 'given': 'Matthias P.'},...</td>\n",
       "      <td>['Review']</td>\n",
       "      <td>2017.0</td>\n",
       "      <td>Small GTPases</td>\n",
       "      <td>Informa UK Limited</td>\n",
       "      <td>1-2</td>\n",
       "      <td>9</td>\n",
       "      <td>5-21</td>\n",
       "      <td>False</td>\n",
       "      <td>301</td>\n",
       "      <td>['2154-1248', '2154-1256']</td>\n",
       "      <td>[]</td>\n",
       "      <td>small-gtpases-YZrGD</td>\n",
       "      <td>Small GTPases</td>\n",
       "      <td>NaN</td>\n",
       "    </tr>\n",
       "    <tr>\n",
       "      <th>2</th>\n",
       "      <td>10.1101/gad.281030.116</td>\n",
       "      <td>codon-usage-affects-the-structure-Zwy9Zp</td>\n",
       "      <td>journal-article</td>\n",
       "      <td>Codon usage affects the structure and function...</td>\n",
       "      <td>\\nCodon usage bias is a universal feature of a...</td>\n",
       "      <td>[{'family': 'Fu', 'given': 'Jingjing'}, {'fami...</td>\n",
       "      <td>['[Keywords: circadian clock', 'codon usage', ...</td>\n",
       "      <td>2016.0</td>\n",
       "      <td>Genes Dev.</td>\n",
       "      <td>Cold Spring Harbor Laboratory</td>\n",
       "      <td>15</td>\n",
       "      <td>30</td>\n",
       "      <td>1761-1775</td>\n",
       "      <td>False</td>\n",
       "      <td>246</td>\n",
       "      <td>['0890-9369', '1549-5477']</td>\n",
       "      <td>[]</td>\n",
       "      <td>genes-development-6828p</td>\n",
       "      <td>Genes &amp; Development</td>\n",
       "      <td>NaN</td>\n",
       "    </tr>\n",
       "    <tr>\n",
       "      <th>3</th>\n",
       "      <td>10.3389/fnins.2016.00235</td>\n",
       "      <td>positron-emission-tomography-reveals-abnormal-...</td>\n",
       "      <td>journal-article</td>\n",
       "      <td>Positron Emission Tomography Reveals Abnormal ...</td>\n",
       "      <td>Recent studies have demonstrated alterations i...</td>\n",
       "      <td>[{'family': 'Qiu', 'given': 'Xiangzhe'}, {'fam...</td>\n",
       "      <td>['Neuroscience']</td>\n",
       "      <td>2016.0</td>\n",
       "      <td>Front. Neurosci.</td>\n",
       "      <td>Frontiers Media SA</td>\n",
       "      <td>NaN</td>\n",
       "      <td>10</td>\n",
       "      <td>NaN</td>\n",
       "      <td>False</td>\n",
       "      <td>1965</td>\n",
       "      <td>['1662-453X']</td>\n",
       "      <td>[]</td>\n",
       "      <td>frontiers-in-neuroscience-RVvG4</td>\n",
       "      <td>Frontiers in Neuroscience</td>\n",
       "      <td>NaN</td>\n",
       "    </tr>\n",
       "    <tr>\n",
       "      <th>4</th>\n",
       "      <td>10.1007/s00439-016-1683-5</td>\n",
       "      <td>the-hnrnp-family-insights-into-V23EgE</td>\n",
       "      <td>journal-article</td>\n",
       "      <td>The hnRNP family: insights into their role in ...</td>\n",
       "      <td>Heterogeneous nuclear ribonucleoproteins (hnRN...</td>\n",
       "      <td>[{'family': 'Geuens', 'given': 'Thomas'}, {'fa...</td>\n",
       "      <td>['Review']</td>\n",
       "      <td>2016.0</td>\n",
       "      <td>Hum Genet</td>\n",
       "      <td>Springer Science and Business Media LLC</td>\n",
       "      <td>8</td>\n",
       "      <td>135</td>\n",
       "      <td>851-867</td>\n",
       "      <td>False</td>\n",
       "      <td>297</td>\n",
       "      <td>['0340-6717', '1432-1203']</td>\n",
       "      <td>[]</td>\n",
       "      <td>human-genetics-vJNKJ</td>\n",
       "      <td>Human Genetics</td>\n",
       "      <td>NaN</td>\n",
       "    </tr>\n",
       "  </tbody>\n",
       "</table>\n",
       "</div>"
      ],
      "text/plain": [
       "                             doi  \\\n",
       "0   10.1371/journal.pone.0159593   \n",
       "1  10.1080/21541248.2016.1276999   \n",
       "2         10.1101/gad.281030.116   \n",
       "3       10.3389/fnins.2016.00235   \n",
       "4      10.1007/s00439-016-1683-5   \n",
       "\n",
       "                                                slug             type  \\\n",
       "0          shared-genetic-factors-involved-in-j81d1l  journal-article   \n",
       "1           molecular-control-of-rab-activity-kpJgay  journal-article   \n",
       "2           codon-usage-affects-the-structure-Zwy9Zp  journal-article   \n",
       "3  positron-emission-tomography-reveals-abnormal-...  journal-article   \n",
       "4              the-hnrnp-family-insights-into-V23EgE  journal-article   \n",
       "\n",
       "                                               title  \\\n",
       "0  Shared Genetic Factors Involved in Celiac Dise...   \n",
       "1  Molecular control of Rab activity by GEFs, GAP...   \n",
       "2  Codon usage affects the structure and function...   \n",
       "3  Positron Emission Tomography Reveals Abnormal ...   \n",
       "4  The hnRNP family: insights into their role in ...   \n",
       "\n",
       "                                            abstract  \\\n",
       "0  Background and ObjectivesGenome-wide associati...   \n",
       "1  ABSTRACTRab proteins are the major regulators ...   \n",
       "2  \\nCodon usage bias is a universal feature of a...   \n",
       "3  Recent studies have demonstrated alterations i...   \n",
       "4  Heterogeneous nuclear ribonucleoproteins (hnRN...   \n",
       "\n",
       "                                             authors  \\\n",
       "0  [{'family': 'Mostowy', 'given': 'Joanna'}, {'f...   \n",
       "1  [{'family': 'Müller', 'given': 'Matthias P.'},...   \n",
       "2  [{'family': 'Fu', 'given': 'Jingjing'}, {'fami...   \n",
       "3  [{'family': 'Qiu', 'given': 'Xiangzhe'}, {'fam...   \n",
       "4  [{'family': 'Geuens', 'given': 'Thomas'}, {'fa...   \n",
       "\n",
       "                                            keywords    year  \\\n",
       "0                               ['Research Article']  2016.0   \n",
       "1                                         ['Review']  2017.0   \n",
       "2  ['[Keywords: circadian clock', 'codon usage', ...  2016.0   \n",
       "3                                   ['Neuroscience']  2016.0   \n",
       "4                                         ['Review']  2016.0   \n",
       "\n",
       "       shortJournal                                publisher issue volume  \\\n",
       "0          PLoS ONE         Public Library of Science (PLoS)     8     11   \n",
       "1     Small GTPases                       Informa UK Limited   1-2      9   \n",
       "2        Genes Dev.            Cold Spring Harbor Laboratory    15     30   \n",
       "3  Front. Neurosci.                       Frontiers Media SA   NaN     10   \n",
       "4         Hum Genet  Springer Science and Business Media LLC     8    135   \n",
       "\n",
       "        page retracted  memberId                       issns editorialNotices  \\\n",
       "0   e0159593     False       340               ['1932-6203']               []   \n",
       "1       5-21     False       301  ['2154-1248', '2154-1256']               []   \n",
       "2  1761-1775     False       246  ['0890-9369', '1549-5477']               []   \n",
       "3        NaN     False      1965               ['1662-453X']               []   \n",
       "4    851-867     False       297  ['0340-6717', '1432-1203']               []   \n",
       "\n",
       "                       journalSlug                    journal rwStatus  \n",
       "0                   plos-one-lZbEk                   Plos One      NaN  \n",
       "1              small-gtpases-YZrGD              Small GTPases      NaN  \n",
       "2          genes-development-6828p        Genes & Development      NaN  \n",
       "3  frontiers-in-neuroscience-RVvG4  Frontiers in Neuroscience      NaN  \n",
       "4             human-genetics-vJNKJ             Human Genetics      NaN  "
      ]
     },
     "execution_count": 16,
     "metadata": {},
     "output_type": "execute_result"
    }
   ],
   "source": [
    "pd.read_csv(input_files / \"contexts.csv\").head()"
   ]
  },
  {
   "cell_type": "markdown",
   "metadata": {},
   "source": [
    "## A Conceptual Framework for Scholarly Metrics\n",
    "\n",
    "Here, I want to attempt to briefly introduce the conceptual framework used to systematize scholarly metrics. This framework is part of a broader doctoral research project and is built around the philosophical shift from object-centrism to process-centrism. This shift from representation towards performance can also be expressed for scholarly metrics by emphasising the processes and practices that lead to outputs and citation counts. But how do these processes look like and how can we start to systematically describe them?\n",
    "\n",
    "The usual story goes something like this: A *citation* links two scholarly texts expressed through an in-text mention and a bibliographic reference. This state is then captured by a *citation link* in their databases. This data then enables the creation of *citation metrics*. I would like to retell this story with some new vocabulary and some closer attention paid to the individual steps:\n",
    "\n",
    "### Citational Events and Their Contexts\n",
    "\n",
    "> A *citation* links two *scholarly texts* expressed through an in-text mention and a bibliographic reference.\n",
    "\n",
    "Firstly, I propose to question the idea of the citation as one consistent concept itself. It is typically understood as a directional binary property between two peer-reviewed research articles. However, more and more citation databases are using text-processing methods to extract the individual in-text mentions with their contexts and furthermore the types of documents hosting citations is changing (e.g., datasets, software, mentions in social media). To accomodate for these changes, I suggest to think in terms of *citational events* and their *contexts*.\n",
    "\n",
    "**Citational Events**\n",
    "\n",
    "The typical citation is a statement in a peer-reviewed scholarly article referencing another piece of scholarly writing. Some of the new social (and technical) challenges around citations stem from changing citational practices such as the citing of preprints or datasets. So far, these changes have been pragmatically addressed by introduction of norms and dedicated infrastructure (e.g., the push for DOIs for datasets and iniatives that track their usage) but we are lacking the conceptual language to capture all these forms of citations.\n",
    "\n",
    "Thus, I propose the understanding of the citation as an interdiscursive event (Nakassis, 2013).  \n",
    "\n",
    "**Contexts**\n",
    "\n",
    "\n",
    "\n",
    "### The Tracing of Events\n",
    "\n",
    "> This state is then captured by a *citation link* in their databases.\n",
    "\n",
    "How are events and their contexts turned into traces?\n",
    "\n",
    "**Traces**\n",
    "\n",
    "\n",
    "\n",
    "### Patterns and Metrics\n",
    "\n",
    "> This data then enables the creation of *citation metrics*.\n",
    "\n",
    "\n",
    "\n",
    "**Patterns**\n",
    "\n",
    "All metrics are patterns, but not all patterns are metrics."
   ]
  },
  {
   "cell_type": "markdown",
   "metadata": {},
   "source": [
    "## Implementation"
   ]
  },
  {
   "cell_type": "markdown",
   "metadata": {},
   "source": [
    "### Events"
   ]
  },
  {
   "cell_type": "markdown",
   "metadata": {},
   "source": [
    "### Contexts"
   ]
  },
  {
   "cell_type": "markdown",
   "metadata": {},
   "source": [
    "### Traces"
   ]
  },
  {
   "cell_type": "markdown",
   "metadata": {},
   "source": [
    "### Patterns"
   ]
  },
  {
   "cell_type": "markdown",
   "metadata": {},
   "source": [
    "#### Citation level patterns\n",
    "\n",
    "This table contains citation patterns aggregated of individual citations.\n",
    "\n",
    "Each table will thus contain:\n",
    "\n",
    "- A unique ID\n",
    "- A source DOI for the citing article\n",
    "- A target DOI for the cited article\n",
    "- One or more patterns\n",
    "    - Each pattern also contain the form of aggregation and input traces/patterns\n",
    "        - Optional for each input trace/pattern: a data resource"
   ]
  },
  {
   "cell_type": "code",
   "execution_count": 31,
   "metadata": {},
   "outputs": [
    {
     "data": {
      "text/plain": [
       "[{'name': 'source', 'type': 'string'},\n",
       " {'name': 'target', 'type': 'string'},\n",
       " {'name': 'total_source_mentions', 'type': 'integer'},\n",
       " {'name': 'total_source_refs', 'type': 'integer'},\n",
       " {'name': 'mentions', 'type': 'integer'},\n",
       " {'name': 'norm_refs', 'type': 'number'},\n",
       " {'name': 'norm_mentions', 'type': 'number'},\n",
       " {'name': 'mentions_per_ref', 'type': 'number'},\n",
       " {'name': 'wf1', 'type': 'number'},\n",
       " {'name': 'wf2', 'type': 'number'},\n",
       " {'name': 'wf3', 'type': 'number'}]"
      ]
     },
     "execution_count": 31,
     "metadata": {},
     "output_type": "execute_result"
    }
   ],
   "source": [
    "f = data_dir / \"citation_patterns.csv\"\n",
    "cit_patterns = pd.read_csv(f)\n",
    "cp_schema = describe_schema(f)\n",
    "cp_schema.fields"
   ]
  },
  {
   "cell_type": "code",
   "execution_count": 29,
   "metadata": {},
   "outputs": [
    {
     "data": {
      "text/plain": [
       "{'fields': [{'name': 'source', 'type': 'string'},\n",
       "  {'name': 'target', 'type': 'string'},\n",
       "  {'name': 'total_source_mentions', 'type': 'integer'},\n",
       "  {'name': 'total_source_refs', 'type': 'integer'},\n",
       "  {'name': 'mentions', 'type': 'integer'},\n",
       "  {'name': 'norm_refs', 'type': 'number'},\n",
       "  {'name': 'norm_mentions', 'type': 'number'},\n",
       "  {'name': 'mentions_per_ref', 'type': 'number'},\n",
       "  {'name': 'wf1', 'type': 'number'},\n",
       "  {'name': 'wf2', 'type': 'number'},\n",
       "  {'name': 'wf3', 'type': 'number'}]}"
      ]
     },
     "execution_count": 29,
     "metadata": {},
     "output_type": "execute_result"
    }
   ],
   "source": [
    "cp_schema.name = \"citation_patterns\"\n",
    "cp_schema.description = \n",
    "\n",
    "ap_schema.primary_key = \"doi\"\n",
    "ap_schema.get_field(\"doi\").title = \"DOI of citing article\""
   ]
  },
  {
   "cell_type": "markdown",
   "metadata": {},
   "source": [
    "### Article level patterns\n",
    "\n",
    "This table contains citation patterns aggregated on the article level.\n",
    "\n",
    "Each table will thus contain:\n",
    "\n",
    "- A unique DOI\n",
    "- One or more patterns for each DOI\n",
    "    - Each pattern also contain the form of aggregation and input traces/patterns\n",
    "        - Optional for each input trace/pattern: a data resource"
   ]
  },
  {
   "cell_type": "code",
   "execution_count": 6,
   "metadata": {},
   "outputs": [],
   "source": [
    "f = \"article_patterns.csv\"\n",
    "article_patterns = pd.read_csv(f)\n",
    "ap_schema = describe_schema(f)"
   ]
  },
  {
   "cell_type": "code",
   "execution_count": 7,
   "metadata": {},
   "outputs": [
    {
     "ename": "SyntaxError",
     "evalue": "invalid syntax (<ipython-input-7-41b5306200e4>, line 16)",
     "output_type": "error",
     "traceback": [
      "\u001b[0;36m  File \u001b[0;32m\"<ipython-input-7-41b5306200e4>\"\u001b[0;36m, line \u001b[0;32m16\u001b[0m\n\u001b[0;31m    \"type\": \"aggregation\",\u001b[0m\n\u001b[0m          ^\u001b[0m\n\u001b[0;31mSyntaxError\u001b[0m\u001b[0;31m:\u001b[0m invalid syntax\n"
     ]
    }
   ],
   "source": [
    "# Set primary key\n",
    "ap_schema.primary_key = \"doi\"\n",
    "ap_schema.get_field(\"doi\").title = \"DOI of citing article\"\n",
    "\n",
    "# First pattern: mentions_agg\n",
    "mentions_agg = ap_schema.get_field(\"mentions_agg\")\n",
    "mentions_agg.title = \"Aggregated mentions\"\n",
    "mentions_agg.description = \"Sum of all incoming mentions for this DOI\"\n",
    "mentions_agg.type = \"integer\"\n",
    "mentions_agg.missing_values = [\"\", \"n/a\", \"NaN\"]\n",
    "mentions_agg.mic = {\n",
    "    \"type\": \"pattern\",\n",
    "    \"prov\": {\n",
    "        \"operation\": {\n",
    "            \"description\": \"Aggregation of all citations by DOI\"\n",
    "            \"type\": \"aggregation\",\n",
    "            \"by\": \"doi\",\n",
    "            \"resource\": \"\"\n",
    "        }\n",
    "    }\n",
    "}\n",
    "\n",
    "# Second pattern: refs_agg\n",
    "refs_agg = ap_schema.get_field(\"refs_agg\")\n",
    "refs_agg.title = \"Aggregated references\"\n",
    "refs_agg.description = \"Sum of all incoming references for this DOI\"\n",
    "refs_agg.type = \"integer\"\n",
    "refs_agg.missing_values = [\"\", \"n/a\", \"NaN\"]\n",
    "refs_agg.mic = {\n",
    "    \"type\": \"pattern\",\n",
    "    \"prov\": {\n",
    "        \"operation\": {\n",
    "            \"type\": \"aggregation\",\n",
    "            \"by\": \"doi\",\n",
    "            \"input\": \"\"\n",
    "        }\n",
    "    }\n",
    "}\n",
    "\n",
    "# Add third pattern which is an average"
   ]
  },
  {
   "cell_type": "code",
   "execution_count": null,
   "metadata": {},
   "outputs": [],
   "source": [
    "# Resource specs\n",
    "resource_desc = {\n",
    "    \"profile\": \"pattern\",\n",
    "    \"name\": \"Article-level metrics\",\n",
    "    \"data\": data_dir / \"article_patterns.csv\",\n",
    "    \"schema\": ap_schema\n",
    "}"
   ]
  },
  {
   "cell_type": "markdown",
   "metadata": {},
   "source": [
    "## References\n",
    "\n",
    "Nakassis, C. V. (2013). Citation and Citationality. Signs and Society, 1(1), 51–77. https://doi.org/10.1086/670165"
   ]
  }
 ],
 "metadata": {
  "kernelspec": {
   "display_name": "metrics-in-context",
   "language": "python",
   "name": "metrics-in-context"
  },
  "language_info": {
   "codemirror_mode": {
    "name": "ipython",
    "version": 3
   },
   "file_extension": ".py",
   "mimetype": "text/x-python",
   "name": "python",
   "nbconvert_exporter": "python",
   "pygments_lexer": "ipython3",
   "version": "3.6.10"
  }
 },
 "nbformat": 4,
 "nbformat_minor": 4
}
