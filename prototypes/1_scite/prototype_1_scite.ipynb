{
 "cells": [
  {
   "cell_type": "markdown",
   "metadata": {},
   "source": [
    "# Metrics in Context | A Proof of Concept\n",
    "\n",
    "### Describing Citation Data with [Frictionless](https://frictionlessdata.io/)\n",
    "\n",
    "*Asura Enkhbayar, 04.02.2021*\n",
    "\n",
    "---"
   ]
  },
  {
   "cell_type": "markdown",
   "metadata": {},
   "source": [
    "This notebook presents a proof of concept for a standardized approach to citation data and, more broadly, scholarly metrics. To do so, we will take a bibliometric dataset consisting of four spreadsheets and build a Frictionless [Data Package](https://specs.frictionlessdata.io/data-package/) using a systematic approach to describe each tables provenance. I will first introduce the dataset at hand and provide an quick overview and situate it in the context of traditional bibliometric work. Then, I will step-by-step introduce a new conceptual framework for scholarly metrics and gradually incorporate the dataset into the final data package. Finally, a few concluding remarks and a brief discussion of the potential and limitations of this approach.\n",
    "\n",
    "*Note: For a broader overview of the project please refer to the [README](https://github.com/Bubblbu/metrics-in-context) in the project repository.*\n",
    "\n",
    "<img style=\"float: center;\" width=25%, src=\"../../materials/assets/fosdem2021.jpg\">"
   ]
  },
  {
   "cell_type": "markdown",
   "metadata": {},
   "source": [
    "## Bibliometric Data\n",
    "\n",
    "The dataset used in this particular notebook is slightly different from more traditional citation datasets. \n",
    "\n",
    "The available dataset consists of four spreadsheets:\n",
    "\n",
    "1. `contexts.csv`: The contexts of the events captured which typically include article metadata. \n",
    "2. `traces.csv`: The individual traced citational links between documents.\n",
    "3. `citations.csv`: This table contains patterns derived from the traces on the level of each individual citation pair.\n",
    "4. `articles.csv`: A table with article-level metrics."
   ]
  },
  {
   "cell_type": "markdown",
   "metadata": {},
   "source": [
    "## A Conceptual Framework for Scholarly Metrics\n",
    "\n",
    "Here, I want to attempt to briefly introduce the conceptual framework used to systematize scholarly metrics. This framework is part of a broader doctoral research project and is built around the philosophical shift from object-centrism to process-centrism. This shift from representation towards performance can also be expressed for scholarly metrics by emphasising the processes and practices that lead to outputs and citation counts. But how do these processes look like and how can we start to systematically describe them?\n",
    "\n",
    "The usual story goes something like this: A *citation* links two scholarly texts expressed through an in-text mention and a bibliographic reference. This state is then captured by a *citation link* in their databases. This data then enables the creation of *citation metrics*. I would like to retell this story with some new vocabulary and some closer attention paid to the individual steps:\n",
    "\n",
    "### Citational Events and Their Contexts\n",
    "\n",
    "> A *citation* links two *scholarly texts* expressed through an in-text mention and a bibliographic reference.\n",
    "\n",
    "Firstly, I propose to question the idea of the citation as one consistent concept itself. It is typically understood as a directional binary property between two peer-reviewed research articles. However, more and more citation databases are using text-processing methods to extract the individual in-text mentions with their contexts and furthermore the types of documents hosting citations is changing (e.g., datasets, software, mentions in social media). To accomodate for these changes, I suggest to think in terms of *citational events* and their *contexts*.\n",
    "\n",
    "**Citational Events**\n",
    "\n",
    "The typical citation is a statement in a peer-reviewed scholarly article referencing another piece of scholarly writing. Some of the new social (and technical) challenges around citations stem from changing citational practices such as the citing of preprints or datasets. So far, these changes have been pragmatically addressed by introduction of norms and dedicated infrastructure (e.g., the push for DOIs for datasets and iniatives that track their usage) but we are lacking the conceptual language to capture all these forms of citations.\n",
    "\n",
    "Thus, I propose the understanding of the citation as an interdiscursive event (Nakassis, 2013).  \n",
    "\n",
    "**Contexts**\n",
    "\n",
    "\n",
    "\n",
    "### The Tracing of Events\n",
    "\n",
    "> This state is then captured by a *citation link* in their databases.\n",
    "\n",
    "How are events and their contexts turned into traces?\n",
    "\n",
    "**Traces**\n",
    "\n",
    "\n",
    "\n",
    "### Patterns and Metrics\n",
    "\n",
    "> This data then enables the creation of *citation metrics*.\n",
    "\n",
    "\n",
    "\n",
    "**Patterns**\n",
    "\n",
    "All metrics are patterns, but not all patterns are metrics."
   ]
  },
  {
   "cell_type": "markdown",
   "metadata": {},
   "source": [
    "## Implementation"
   ]
  },
  {
   "cell_type": "code",
   "execution_count": 1,
   "metadata": {},
   "outputs": [],
   "source": [
    "from pprint import pprint\n",
    "\n",
    "import pandas as pd\n",
    "from frictionless import describe_schema"
   ]
  },
  {
   "cell_type": "markdown",
   "metadata": {},
   "source": [
    "### Events"
   ]
  },
  {
   "cell_type": "markdown",
   "metadata": {},
   "source": [
    "### Contexts"
   ]
  },
  {
   "cell_type": "markdown",
   "metadata": {},
   "source": [
    "### Traces"
   ]
  },
  {
   "cell_type": "markdown",
   "metadata": {},
   "source": [
    "### Patterns"
   ]
  },
  {
   "cell_type": "markdown",
   "metadata": {},
   "source": [
    "#### Citation level patterns\n",
    "\n",
    "This table contains citation patterns aggregated of individual citations.\n",
    "\n",
    "Each table will thus contain:\n",
    "\n",
    "- A unique ID\n",
    "- A source DOI for the citing article\n",
    "- A target DOI for the cited article\n",
    "- One or more patterns\n",
    "    - Each pattern also contain the form of aggregation and input traces/patterns\n",
    "        - Optional for each input trace/pattern: a data resource"
   ]
  },
  {
   "cell_type": "code",
   "execution_count": 31,
   "metadata": {},
   "outputs": [
    {
     "data": {
      "text/plain": [
       "[{'name': 'source', 'type': 'string'},\n",
       " {'name': 'target', 'type': 'string'},\n",
       " {'name': 'total_source_mentions', 'type': 'integer'},\n",
       " {'name': 'total_source_refs', 'type': 'integer'},\n",
       " {'name': 'mentions', 'type': 'integer'},\n",
       " {'name': 'norm_refs', 'type': 'number'},\n",
       " {'name': 'norm_mentions', 'type': 'number'},\n",
       " {'name': 'mentions_per_ref', 'type': 'number'},\n",
       " {'name': 'wf1', 'type': 'number'},\n",
       " {'name': 'wf2', 'type': 'number'},\n",
       " {'name': 'wf3', 'type': 'number'}]"
      ]
     },
     "execution_count": 31,
     "metadata": {},
     "output_type": "execute_result"
    }
   ],
   "source": [
    "f = data_dir / \"citation_patterns.csv\"\n",
    "cit_patterns = pd.read_csv(f)\n",
    "cp_schema = describe_schema(f)\n",
    "cp_schema.fields"
   ]
  },
  {
   "cell_type": "code",
   "execution_count": 29,
   "metadata": {},
   "outputs": [
    {
     "data": {
      "text/plain": [
       "{'fields': [{'name': 'source', 'type': 'string'},\n",
       "  {'name': 'target', 'type': 'string'},\n",
       "  {'name': 'total_source_mentions', 'type': 'integer'},\n",
       "  {'name': 'total_source_refs', 'type': 'integer'},\n",
       "  {'name': 'mentions', 'type': 'integer'},\n",
       "  {'name': 'norm_refs', 'type': 'number'},\n",
       "  {'name': 'norm_mentions', 'type': 'number'},\n",
       "  {'name': 'mentions_per_ref', 'type': 'number'},\n",
       "  {'name': 'wf1', 'type': 'number'},\n",
       "  {'name': 'wf2', 'type': 'number'},\n",
       "  {'name': 'wf3', 'type': 'number'}]}"
      ]
     },
     "execution_count": 29,
     "metadata": {},
     "output_type": "execute_result"
    }
   ],
   "source": [
    "cp_schema.name = \"citation_patterns\"\n",
    "cp_schema.description = \n",
    "\n",
    "ap_schema.primary_key = \"doi\"\n",
    "ap_schema.get_field(\"doi\").title = \"DOI of citing article\""
   ]
  },
  {
   "cell_type": "markdown",
   "metadata": {},
   "source": [
    "### Article level patterns\n",
    "\n",
    "This table contains citation patterns aggregated on the article level.\n",
    "\n",
    "Each table will thus contain:\n",
    "\n",
    "- A unique DOI\n",
    "- One or more patterns for each DOI\n",
    "    - Each pattern also contain the form of aggregation and input traces/patterns\n",
    "        - Optional for each input trace/pattern: a data resource"
   ]
  },
  {
   "cell_type": "code",
   "execution_count": 6,
   "metadata": {},
   "outputs": [],
   "source": [
    "f = \"article_patterns.csv\"\n",
    "article_patterns = pd.read_csv(f)\n",
    "ap_schema = describe_schema(f)"
   ]
  },
  {
   "cell_type": "code",
   "execution_count": 7,
   "metadata": {},
   "outputs": [
    {
     "ename": "SyntaxError",
     "evalue": "invalid syntax (<ipython-input-7-41b5306200e4>, line 16)",
     "output_type": "error",
     "traceback": [
      "\u001b[0;36m  File \u001b[0;32m\"<ipython-input-7-41b5306200e4>\"\u001b[0;36m, line \u001b[0;32m16\u001b[0m\n\u001b[0;31m    \"type\": \"aggregation\",\u001b[0m\n\u001b[0m          ^\u001b[0m\n\u001b[0;31mSyntaxError\u001b[0m\u001b[0;31m:\u001b[0m invalid syntax\n"
     ]
    }
   ],
   "source": [
    "# Set primary key\n",
    "ap_schema.primary_key = \"doi\"\n",
    "ap_schema.get_field(\"doi\").title = \"DOI of citing article\"\n",
    "\n",
    "# First pattern: mentions_agg\n",
    "mentions_agg = ap_schema.get_field(\"mentions_agg\")\n",
    "mentions_agg.title = \"Aggregated mentions\"\n",
    "mentions_agg.description = \"Sum of all incoming mentions for this DOI\"\n",
    "mentions_agg.type = \"integer\"\n",
    "mentions_agg.missing_values = [\"\", \"n/a\", \"NaN\"]\n",
    "mentions_agg.mic = {\n",
    "    \"type\": \"pattern\",\n",
    "    \"prov\": {\n",
    "        \"operation\": {\n",
    "            \"description\": \"Aggregation of all citations by DOI\"\n",
    "            \"type\": \"aggregation\",\n",
    "            \"by\": \"doi\",\n",
    "            \"resource\": \"\"\n",
    "        }\n",
    "    }\n",
    "}\n",
    "\n",
    "# Second pattern: refs_agg\n",
    "refs_agg = ap_schema.get_field(\"refs_agg\")\n",
    "refs_agg.title = \"Aggregated references\"\n",
    "refs_agg.description = \"Sum of all incoming references for this DOI\"\n",
    "refs_agg.type = \"integer\"\n",
    "refs_agg.missing_values = [\"\", \"n/a\", \"NaN\"]\n",
    "refs_agg.mic = {\n",
    "    \"type\": \"pattern\",\n",
    "    \"prov\": {\n",
    "        \"operation\": {\n",
    "            \"type\": \"aggregation\",\n",
    "            \"by\": \"doi\",\n",
    "            \"input\": \"\"\n",
    "        }\n",
    "    }\n",
    "}\n",
    "\n",
    "# Add third pattern which is an average"
   ]
  },
  {
   "cell_type": "code",
   "execution_count": null,
   "metadata": {},
   "outputs": [],
   "source": [
    "# Resource specs\n",
    "resource_desc = {\n",
    "    \"profile\": \"pattern\",\n",
    "    \"name\": \"Article-level metrics\",\n",
    "    \"data\": data_dir / \"article_patterns.csv\",\n",
    "    \"schema\": ap_schema\n",
    "}"
   ]
  },
  {
   "cell_type": "markdown",
   "metadata": {},
   "source": [
    "## References\n",
    "\n",
    "Nakassis, C. V. (2013). Citation and Citationality. Signs and Society, 1(1), 51–77. https://doi.org/10.1086/670165"
   ]
  }
 ],
 "metadata": {
  "kernelspec": {
   "display_name": "metrics-in-context",
   "language": "python",
   "name": "metrics-in-context"
  },
  "language_info": {
   "codemirror_mode": {
    "name": "ipython",
    "version": 3
   },
   "file_extension": ".py",
   "mimetype": "text/x-python",
   "name": "python",
   "nbconvert_exporter": "python",
   "pygments_lexer": "ipython3",
   "version": "3.6.10"
  }
 },
 "nbformat": 4,
 "nbformat_minor": 4
}
