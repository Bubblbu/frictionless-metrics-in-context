{
 "cells": [
  {
   "cell_type": "markdown",
   "metadata": {},
   "source": [
    "# Metrics in Context | Describing citation data from Scite.ai with Frictionless\n",
    "\n",
    "> This notebook presents a proof of concept for a standardized approach to citation data and, more broadly, scholarly metrics.\n",
    "\n",
    "**Table of Contents**\n",
    "\n",
    "- [Introduction](#Introduction)\n",
    "- [A Conceptual Framework for Scholarly Metrics](#A-Conceptual-Framework-for-Scholarly-Metrics)\n",
    "- [Data](#Data)\n",
    "- [Implementation](#Implementation)\n",
    "    - [Events and Contexts](#Events-and-Contexts)\n",
    "    - [Traces](#Traces)\n",
    "    - [Patterns](#Patterns)\n",
    "\n",
    "## Introduction\n",
    "\n",
    "## A Conceptual Framework for Scholarly Metrics\n",
    "\n",
    "## Data\n",
    "\n",
    "The available dataset consists of four spreadsheets:\n",
    "\n",
    "1. `contexts.csv`: The contexts of the events captured which typically include article metadata. \n",
    "2. `traces.csv`: The individual traced citational links between documents.\n",
    "3. `citations.csv`: This table contains patterns derived from the traces on the level of each individual citation pair.\n",
    "4. `articles.csv`: A table with article-level metrics.\n",
    "\n",
    "## Implementation"
   ]
  },
  {
   "cell_type": "code",
   "execution_count": 1,
   "metadata": {},
   "outputs": [],
   "source": [
    "from pprint import pprint\n",
    "\n",
    "import pandas as pd\n",
    "from frictionless import describe_schema"
   ]
  },
  {
   "cell_type": "markdown",
   "metadata": {},
   "source": [
    "### Events and Contexts"
   ]
  },
  {
   "cell_type": "markdown",
   "metadata": {},
   "source": [
    "### Traces"
   ]
  },
  {
   "cell_type": "markdown",
   "metadata": {},
   "source": [
    "### Patterns"
   ]
  },
  {
   "cell_type": "markdown",
   "metadata": {},
   "source": [
    "#### Citation level patterns\n",
    "\n",
    "This table contains citation patterns aggregated of individual citations.\n",
    "\n",
    "Each table will thus contain:\n",
    "\n",
    "- A unique ID\n",
    "- A source DOI for the citing article\n",
    "- A target DOI for the cited article\n",
    "- One or more patterns\n",
    "    - Each pattern also contain the form of aggregation and input traces/patterns\n",
    "        - Optional for each input trace/pattern: a data resource"
   ]
  },
  {
   "cell_type": "code",
   "execution_count": 31,
   "metadata": {},
   "outputs": [
    {
     "data": {
      "text/plain": [
       "[{'name': 'source', 'type': 'string'},\n",
       " {'name': 'target', 'type': 'string'},\n",
       " {'name': 'total_source_mentions', 'type': 'integer'},\n",
       " {'name': 'total_source_refs', 'type': 'integer'},\n",
       " {'name': 'mentions', 'type': 'integer'},\n",
       " {'name': 'norm_refs', 'type': 'number'},\n",
       " {'name': 'norm_mentions', 'type': 'number'},\n",
       " {'name': 'mentions_per_ref', 'type': 'number'},\n",
       " {'name': 'wf1', 'type': 'number'},\n",
       " {'name': 'wf2', 'type': 'number'},\n",
       " {'name': 'wf3', 'type': 'number'}]"
      ]
     },
     "execution_count": 31,
     "metadata": {},
     "output_type": "execute_result"
    }
   ],
   "source": [
    "f = data_dir / \"citation_patterns.csv\"\n",
    "cit_patterns = pd.read_csv(f)\n",
    "cp_schema = describe_schema(f)\n",
    "cp_schema.fields"
   ]
  },
  {
   "cell_type": "code",
   "execution_count": 29,
   "metadata": {},
   "outputs": [
    {
     "data": {
      "text/plain": [
       "{'fields': [{'name': 'source', 'type': 'string'},\n",
       "  {'name': 'target', 'type': 'string'},\n",
       "  {'name': 'total_source_mentions', 'type': 'integer'},\n",
       "  {'name': 'total_source_refs', 'type': 'integer'},\n",
       "  {'name': 'mentions', 'type': 'integer'},\n",
       "  {'name': 'norm_refs', 'type': 'number'},\n",
       "  {'name': 'norm_mentions', 'type': 'number'},\n",
       "  {'name': 'mentions_per_ref', 'type': 'number'},\n",
       "  {'name': 'wf1', 'type': 'number'},\n",
       "  {'name': 'wf2', 'type': 'number'},\n",
       "  {'name': 'wf3', 'type': 'number'}]}"
      ]
     },
     "execution_count": 29,
     "metadata": {},
     "output_type": "execute_result"
    }
   ],
   "source": [
    "cp_schema.name = \"citation_patterns\"\n",
    "cp_schema.description = \n",
    "\n",
    "ap_schema.primary_key = \"doi\"\n",
    "ap_schema.get_field(\"doi\").title = \"DOI of citing article\""
   ]
  },
  {
   "cell_type": "markdown",
   "metadata": {},
   "source": [
    "### Article level patterns\n",
    "\n",
    "This table contains citation patterns aggregated on the article level.\n",
    "\n",
    "Each table will thus contain:\n",
    "\n",
    "- A unique DOI\n",
    "- One or more patterns for each DOI\n",
    "    - Each pattern also contain the form of aggregation and input traces/patterns\n",
    "        - Optional for each input trace/pattern: a data resource"
   ]
  },
  {
   "cell_type": "code",
   "execution_count": 6,
   "metadata": {},
   "outputs": [],
   "source": [
    "f = \"article_patterns.csv\"\n",
    "article_patterns = pd.read_csv(f)\n",
    "ap_schema = describe_schema(f)"
   ]
  },
  {
   "cell_type": "code",
   "execution_count": 7,
   "metadata": {},
   "outputs": [
    {
     "ename": "SyntaxError",
     "evalue": "invalid syntax (<ipython-input-7-41b5306200e4>, line 16)",
     "output_type": "error",
     "traceback": [
      "\u001b[0;36m  File \u001b[0;32m\"<ipython-input-7-41b5306200e4>\"\u001b[0;36m, line \u001b[0;32m16\u001b[0m\n\u001b[0;31m    \"type\": \"aggregation\",\u001b[0m\n\u001b[0m          ^\u001b[0m\n\u001b[0;31mSyntaxError\u001b[0m\u001b[0;31m:\u001b[0m invalid syntax\n"
     ]
    }
   ],
   "source": [
    "# Set primary key\n",
    "ap_schema.primary_key = \"doi\"\n",
    "ap_schema.get_field(\"doi\").title = \"DOI of citing article\"\n",
    "\n",
    "# First pattern: mentions_agg\n",
    "mentions_agg = ap_schema.get_field(\"mentions_agg\")\n",
    "mentions_agg.title = \"Aggregated mentions\"\n",
    "mentions_agg.description = \"Sum of all incoming mentions for this DOI\"\n",
    "mentions_agg.type = \"integer\"\n",
    "mentions_agg.missing_values = [\"\", \"n/a\", \"NaN\"]\n",
    "mentions_agg.mic = {\n",
    "    \"type\": \"pattern\",\n",
    "    \"prov\": {\n",
    "        \"operation\": {\n",
    "            \"description\": \"Aggregation of all citations by DOI\"\n",
    "            \"type\": \"aggregation\",\n",
    "            \"by\": \"doi\",\n",
    "            \"resource\": \"\"\n",
    "        }\n",
    "    }\n",
    "}\n",
    "\n",
    "# Second pattern: refs_agg\n",
    "refs_agg = ap_schema.get_field(\"refs_agg\")\n",
    "refs_agg.title = \"Aggregated references\"\n",
    "refs_agg.description = \"Sum of all incoming references for this DOI\"\n",
    "refs_agg.type = \"integer\"\n",
    "refs_agg.missing_values = [\"\", \"n/a\", \"NaN\"]\n",
    "refs_agg.mic = {\n",
    "    \"type\": \"pattern\",\n",
    "    \"prov\": {\n",
    "        \"operation\": {\n",
    "            \"type\": \"aggregation\",\n",
    "            \"by\": \"doi\",\n",
    "            \"input\": \"\"\n",
    "        }\n",
    "    }\n",
    "}\n",
    "\n",
    "# Add third pattern which is an average"
   ]
  },
  {
   "cell_type": "code",
   "execution_count": null,
   "metadata": {},
   "outputs": [],
   "source": [
    "# Resource specs\n",
    "resource_desc = {\n",
    "    \"profile\": \"pattern\",\n",
    "    \"name\": \"Article-level metrics\",\n",
    "    \"data\": data_dir / \"article_patterns.csv\",\n",
    "    \"schema\": ap_schema\n",
    "}"
   ]
  },
  {
   "cell_type": "code",
   "execution_count": 14,
   "metadata": {},
   "outputs": [],
   "source": [
    "metadata = pd.read_csv(data_dir / \"event_contexts.csv\")\n",
    "traces = pd.read_csv(data_dir / \"citation_traces.csv\")\n"
   ]
  },
  {
   "cell_type": "code",
   "execution_count": 32,
   "metadata": {},
   "outputs": [],
   "source": [
    "f = data_dir / \"event_contexts.csv\"\n",
    "event_contexts = describe(f)[\"schema\"]"
   ]
  },
  {
   "cell_type": "code",
   "execution_count": 33,
   "metadata": {},
   "outputs": [
    {
     "data": {
      "text/plain": [
       "{'fields': [{'name': 'doi', 'type': 'string'},\n",
       "  {'name': 'slug', 'type': 'string'},\n",
       "  {'name': 'type', 'type': 'string'},\n",
       "  {'name': 'title', 'type': 'string'},\n",
       "  {'name': 'abstract', 'type': 'string'},\n",
       "  {'name': 'authors', 'type': 'string'},\n",
       "  {'name': 'keywords', 'type': 'string'},\n",
       "  {'name': 'year', 'type': 'number'},\n",
       "  {'name': 'shortJournal', 'type': 'string'},\n",
       "  {'name': 'publisher', 'type': 'string'},\n",
       "  {'name': 'issue', 'type': 'string'},\n",
       "  {'name': 'volume', 'type': 'integer'},\n",
       "  {'name': 'page', 'type': 'string'},\n",
       "  {'name': 'retracted', 'type': 'boolean'},\n",
       "  {'name': 'memberId', 'type': 'integer'},\n",
       "  {'name': 'issns', 'type': 'string'},\n",
       "  {'name': 'editorialNotices', 'type': 'string'},\n",
       "  {'name': 'journalSlug', 'type': 'string'},\n",
       "  {'name': 'journal', 'type': 'string'},\n",
       "  {'name': 'rwStatus', 'type': 'any'}]}"
      ]
     },
     "execution_count": 33,
     "metadata": {},
     "output_type": "execute_result"
    }
   ],
   "source": [
    "event_contexts"
   ]
  },
  {
   "cell_type": "code",
   "execution_count": 20,
   "metadata": {},
   "outputs": [
    {
     "data": {
      "text/plain": [
       "{'fields': [{'name': 'id', 'type': 'integer'},\n",
       "  {'name': 'source', 'type': 'string'},\n",
       "  {'name': 'target', 'type': 'string'}]}"
      ]
     },
     "execution_count": 20,
     "metadata": {},
     "output_type": "execute_result"
    }
   ],
   "source": [
    "desc = describe(data_dir / \"citation_traces.csv\")\n",
    "trace_schema = desc[\"schema\"]"
   ]
  },
  {
   "cell_type": "code",
   "execution_count": 28,
   "metadata": {},
   "outputs": [],
   "source": [
    "trace_schema.get_field(\"id\").title = \"Unique ID for a source-target pair\"\n",
    "trace_schema.get_field(\"source\").title = \"DOI of citing article\"\n",
    "trace_schema.get_field(\"source\").type = \"string\"\n",
    "trace_schema.get_field(\"target\").title = \"DOI of cited article\"\n",
    "trace_schema.get_field(\"target\").type = \"string\""
   ]
  },
  {
   "cell_type": "code",
   "execution_count": 29,
   "metadata": {},
   "outputs": [
    {
     "data": {
      "text/plain": [
       "{'fields': [{'name': 'id',\n",
       "   'type': 'integer',\n",
       "   'title': 'Unique ID for a source-target pair'},\n",
       "  {'name': 'source', 'type': 'string', 'title': 'DOI of citing article'},\n",
       "  {'name': 'target', 'type': 'string', 'title': 'DOI of cited article'}]}"
      ]
     },
     "execution_count": 29,
     "metadata": {},
     "output_type": "execute_result"
    }
   ],
   "source": [
    "trace_schema"
   ]
  },
  {
   "cell_type": "code",
   "execution_count": 30,
   "metadata": {},
   "outputs": [],
   "source": [
    "desc = describe(data_dir / \"citation_patterns.csv\")\n",
    "cit_patterns = desc[\"schema\"]"
   ]
  },
  {
   "cell_type": "code",
   "execution_count": 31,
   "metadata": {},
   "outputs": [
    {
     "data": {
      "text/plain": [
       "{'fields': [{'name': 'source', 'type': 'string'},\n",
       "  {'name': 'target', 'type': 'string'},\n",
       "  {'name': 'total_source_mentions', 'type': 'integer'},\n",
       "  {'name': 'total_source_refs', 'type': 'integer'},\n",
       "  {'name': 'mentions', 'type': 'integer'},\n",
       "  {'name': 'norm_refs', 'type': 'number'},\n",
       "  {'name': 'norm_mentions', 'type': 'number'},\n",
       "  {'name': 'mentions_per_ref', 'type': 'number'},\n",
       "  {'name': 'wf1', 'type': 'number'},\n",
       "  {'name': 'wf2', 'type': 'number'},\n",
       "  {'name': 'wf3', 'type': 'number'}]}"
      ]
     },
     "execution_count": 31,
     "metadata": {},
     "output_type": "execute_result"
    }
   ],
   "source": [
    "cit_patterns"
   ]
  },
  {
   "cell_type": "code",
   "execution_count": 43,
   "metadata": {},
   "outputs": [],
   "source": [
    "citations = {\n",
    "    \"name\": \"scholarly citation\",\n",
    "    \"local\": \"scholarly article\",\n",
    "    \"reference\": \"mentions\",\n",
    "    \"remote\": \"scholarly article\"\n",
    "}"
   ]
  },
  {
   "cell_type": "code",
   "execution_count": 45,
   "metadata": {},
   "outputs": [],
   "source": [
    "citation_links = {\n",
    "    \"name\": \"citation link\",\n",
    "    \"description\": \"All references deposited to COCI through the I4OC including a long list of publishers (notably, Elsevier is not contributing its reference data)\" \\\n",
    "                    \"These references are then matched and aggregated for articles.\",\n",
    "    \"tracked_event\": citations,\n",
    "    \"coverage\": \"COCI publishers\",\n",
    "    \n",
    "}"
   ]
  },
  {
   "cell_type": "code",
   "execution_count": 46,
   "metadata": {},
   "outputs": [],
   "source": [
    "pattern = {\n",
    "    \"name\": \"aggregation\",\n",
    "    \"description\": \"Local \"\n",
    "    \"trace\": citation_links\n",
    "}"
   ]
  },
  {
   "cell_type": "code",
   "execution_count": 52,
   "metadata": {},
   "outputs": [
    {
     "name": "stdout",
     "output_type": "stream",
     "text": [
      "{'name': 'aggregation',\n",
      " 'trace': {'description': 'All references deposited to COCI through the I4OC '\n",
      "                          'including a long list of publishers (notably, '\n",
      "                          'Elsevier is not contributing its reference '\n",
      "                          'data)These references are then matched and '\n",
      "                          'aggregated for articles.',\n",
      "           'name': 'citation link',\n",
      "           'tracked_event': {'local': 'scholarly article',\n",
      "                             'name': 'scholarly citation',\n",
      "                             'reference': 'mentions',\n",
      "                             'remote': 'scholarly article'}}}\n"
     ]
    }
   ],
   "source": [
    "pprint(schema.get_field(\"citation_count\")[\"pattern\"])"
   ]
  },
  {
   "cell_type": "markdown",
   "metadata": {},
   "source": [
    "#### 1.2 Multiple Citation Counts\n",
    "\n",
    "Describe a dataset with several citation counts provided from Crossref, Web of Science, and Google Scholar."
   ]
  },
  {
   "cell_type": "markdown",
   "metadata": {},
   "source": [
    "### 2. Altmetrics\n",
    "\n",
    "#### 2.1 Facebook shares from Altmetric.com\n",
    "\n",
    "Describe a dataset of aggregated Facebook share counts provided by Altmetric"
   ]
  },
  {
   "cell_type": "markdown",
   "metadata": {},
   "source": [
    "#### 2.2 Public and Private Facebook Shares\n",
    "\n",
    "Describe a dataset with Altmetric Facebook counts and private Facebook share numbers aggregated by our method."
   ]
  },
  {
   "cell_type": "markdown",
   "metadata": {},
   "source": [
    "### 3. References\n",
    "\n",
    "#### 3.1 Basic reference data\n",
    "\n",
    "Describe a dataset of in-text references provided by Scite.ai."
   ]
  },
  {
   "cell_type": "markdown",
   "metadata": {},
   "source": [
    "#### 3.2 References and Citations\n",
    "\n",
    "Describe a dataset consisting of citation counts derived from a reference data."
   ]
  }
 ],
 "metadata": {
  "kernelspec": {
   "display_name": "metrics-in-context",
   "language": "python",
   "name": "metrics-in-context"
  },
  "language_info": {
   "codemirror_mode": {
    "name": "ipython",
    "version": 3
   },
   "file_extension": ".py",
   "mimetype": "text/x-python",
   "name": "python",
   "nbconvert_exporter": "python",
   "pygments_lexer": "ipython3",
   "version": "3.6.10"
  }
 },
 "nbformat": 4,
 "nbformat_minor": 4
}
